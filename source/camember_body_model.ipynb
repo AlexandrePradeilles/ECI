{
 "cells": [
  {
   "cell_type": "code",
   "execution_count": 1,
   "metadata": {},
   "outputs": [],
   "source": [
    "import pandas as pd\n",
    "import numpy as np\n",
    "import torch\n",
    "import torch.nn as nn\n",
    "from transformers import CamembertConfig, CamembertModel, AutoTokenizer, CamembertTokenizer, CamembertForSequenceClassification\n",
    "from torch.utils.data import TensorDataset, DataLoader, RandomSampler, SequentialSampler\n",
    "from sklearn.model_selection import train_test_split\n",
    "import functools\n",
    "from tqdm import tqdm\n",
    "import gc\n",
    "\n",
    "device = 'cuda' if torch.cuda.is_available() else 'cpu'"
   ]
  },
  {
   "cell_type": "code",
   "execution_count": 2,
   "metadata": {},
   "outputs": [],
   "source": [
    "#Load 20 minutes articles\n",
    "df_articles = pd.read_json('../newspaper_2.jsonl', lines=True)"
   ]
  },
  {
   "cell_type": "code",
   "execution_count": 3,
   "metadata": {},
   "outputs": [],
   "source": [
    "def split_text_in_parts(txt):\n",
    "    \"\"\"\n",
    "    Split articles in part of length 500 max to be compatible with camembert model.\n",
    "    \"\"\"\n",
    "    n = len(txt)\n",
    "    prev_cursor = 0\n",
    "    cursor = min(499, n-1)\n",
    "    parts = []\n",
    "    while prev_cursor < n-1:\n",
    "        while '.' not in txt[cursor] and cursor > prev_cursor:\n",
    "            cursor -= 1\n",
    "        if cursor == prev_cursor:\n",
    "            parts.append(txt[prev_cursor:min(prev_cursor+500, n)])\n",
    "            prev_cursor = min(prev_cursor+500, n)\n",
    "            cursor = min(prev_cursor+499, n-1)\n",
    "        else:\n",
    "            parts.append(txt[prev_cursor:cursor+1])\n",
    "            prev_cursor = cursor+1\n",
    "            cursor = prev_cursor+499\n",
    "            if cursor >= n-1 and prev_cursor < n-1:\n",
    "                parts.append(txt[prev_cursor:])\n",
    "                break\n",
    "    return parts"
   ]
  },
  {
   "cell_type": "code",
   "execution_count": 4,
   "metadata": {},
   "outputs": [],
   "source": [
    "# Create test and train dataframes\n",
    "dict_labels = {'planete': 0, 'sport': 1, 'economie': 2, 'sciences': 3, 'high-tech': 4, 'politique': 5}\n",
    "p_train, p_test = train_test_split(df_articles[(df_articles.category_id == 'planete')], test_size=1000, train_size=3000, random_state=42)\n",
    "s_train, s_test = train_test_split(df_articles[(df_articles.category_id == 'sport')], test_size=1000, train_size=3000, random_state=42)\n",
    "e_train, e_test = train_test_split(df_articles[(df_articles.category_id == 'economie')], test_size=1000, train_size=3000, random_state=42)\n",
    "sc_train, sc_test = train_test_split(df_articles[(df_articles.category_id == 'sciences')], test_size=500, train_size=2000, random_state=42)\n",
    "h_train, h_test = train_test_split(df_articles[(df_articles.category_id == 'high-tech')], test_size=1000, train_size=3000, random_state=42)\n",
    "po_train, po_test = train_test_split(df_articles[(df_articles.category_id == 'politique')], test_size=1000, train_size=3000, random_state=42)\n",
    "train_dataset = pd.concat([p_train, s_train, e_train, sc_train, h_train, po_train])[['title', 'category_id', 'body']]\n",
    "train_dataset['label'] = train_dataset.apply(lambda x: dict_labels[x['category_id']], axis=1)\n",
    "test_dataset = pd.concat([p_test, s_test, e_test, sc_test, h_test, po_test])[['title', 'category_id', 'body']]\n",
    "test_dataset['label'] = test_dataset.apply(lambda x: dict_labels[x['category_id']], axis=1)"
   ]
  },
  {
   "cell_type": "code",
   "execution_count": 5,
   "metadata": {},
   "outputs": [],
   "source": [
    "# Set gloabal parameters and tokenizer\n",
    "MAX_LEN = 512\n",
    "batch_size = 16\n",
    "tokenizer = CamembertTokenizer.from_pretrained('camembert-base',do_lower_case=True)"
   ]
  },
  {
   "cell_type": "code",
   "execution_count": 6,
   "metadata": {},
   "outputs": [],
   "source": [
    "### Creation of the test dataset ###\n",
    "# Creates list of texts and labels\n",
    "text = test_dataset['body'].to_list()\n",
    "labels = test_dataset['label'].to_list()\n",
    "body_text = []\n",
    "body_labels = []\n",
    "for i in range(len(text)):\n",
    "    parts = split_text_in_parts(text[i].split())\n",
    "    for part in parts:\n",
    "        if part != []:\n",
    "            body_text.append(' '.join(part))\n",
    "            body_labels.append(labels[i])\n",
    "    \n",
    "\n",
    "#user tokenizer to convert sentences into tokenizer\n",
    "input_ids  = tokenizer(body_text, max_length=MAX_LEN, padding='longest', truncation=True).input_ids\n",
    "\n",
    "# Create attention masks\n",
    "attention_masks = []\n",
    "# Create a mask of 1s for each token followed by 0s for padding\n",
    "for seq in input_ids:\n",
    "    seq_mask = [float(i!=1) for i in seq]  \n",
    "    attention_masks.append(seq_mask)"
   ]
  },
  {
   "cell_type": "code",
   "execution_count": 7,
   "metadata": {},
   "outputs": [],
   "source": [
    "# transfrom to tensor format\n",
    "test_inputs = torch.tensor(input_ids)\n",
    "test_labels = torch.tensor(body_labels)\n",
    "test_masks = torch.tensor(attention_masks)\n",
    "\n",
    "# create dataloader\n",
    "test_data = TensorDataset(test_inputs, test_masks, test_labels)\n",
    "test_sampler = RandomSampler(test_data)\n",
    "test_dataloader = DataLoader(test_data, sampler=test_sampler, batch_size=batch_size)"
   ]
  },
  {
   "cell_type": "code",
   "execution_count": 8,
   "metadata": {},
   "outputs": [],
   "source": [
    "# Creates list of texts and labels\n",
    "text = train_dataset['title'].to_list()\n",
    "labels = train_dataset['label'].to_list()\n",
    "body_text = []\n",
    "body_labels = []\n",
    "for i in range(len(text)):\n",
    "    parts = split_text_in_parts(text[i].split())\n",
    "    for part in parts:\n",
    "        if part != []:\n",
    "            body_text.append(' '.join(part))\n",
    "            body_labels.append(labels[i])\n",
    "    \n",
    "\n",
    "#user tokenizer to convert sentences into tokenizer\n",
    "input_ids  = tokenizer(body_text, max_length=MAX_LEN, padding='longest', truncation=True).input_ids\n",
    "\n",
    "# Create attention masks\n",
    "attention_masks = []\n",
    "# Create a mask of 1s for each token followed by 0s for padding\n",
    "for seq in input_ids:\n",
    "    seq_mask = [float(i!=1) for i in seq]  \n",
    "    attention_masks.append(seq_mask)"
   ]
  },
  {
   "cell_type": "code",
   "execution_count": 9,
   "metadata": {},
   "outputs": [],
   "source": [
    "# transfrom to tensor format\n",
    "train_inputs = torch.tensor(input_ids)\n",
    "train_labels = torch.tensor(body_labels)\n",
    "train_masks = torch.tensor(attention_masks)\n",
    "\n",
    "# create dataloader\n",
    "train_data = TensorDataset(train_inputs, train_masks, train_labels)\n",
    "train_sampler = RandomSampler(train_data)\n",
    "train_dataloader = DataLoader(train_data, sampler=train_sampler, batch_size=batch_size)"
   ]
  },
  {
   "cell_type": "code",
   "execution_count": 10,
   "metadata": {},
   "outputs": [
    {
     "name": "stderr",
     "output_type": "stream",
     "text": [
      "Some weights of the model checkpoint at camembert-base were not used when initializing CamembertForSequenceClassification: ['roberta.pooler.dense.bias', 'lm_head.dense.bias', 'lm_head.layer_norm.bias', 'lm_head.decoder.weight', 'roberta.pooler.dense.weight', 'lm_head.layer_norm.weight', 'lm_head.dense.weight', 'lm_head.bias']\n",
      "- This IS expected if you are initializing CamembertForSequenceClassification from the checkpoint of a model trained on another task or with another architecture (e.g. initializing a BertForSequenceClassification model from a BertForPreTraining model).\n",
      "- This IS NOT expected if you are initializing CamembertForSequenceClassification from the checkpoint of a model that you expect to be exactly identical (initializing a BertForSequenceClassification model from a BertForSequenceClassification model).\n",
      "Some weights of CamembertForSequenceClassification were not initialized from the model checkpoint at camembert-base and are newly initialized: ['classifier.out_proj.bias', 'classifier.dense.weight', 'classifier.dense.bias', 'classifier.out_proj.weight']\n",
      "You should probably TRAIN this model on a down-stream task to be able to use it for predictions and inference.\n"
     ]
    }
   ],
   "source": [
    "# Load pretained model\n",
    "model = CamembertForSequenceClassification.from_pretrained(\"camembert-base\", num_labels=6).to(device)"
   ]
  },
  {
   "cell_type": "code",
   "execution_count": 11,
   "metadata": {},
   "outputs": [],
   "source": [
    "# function to compute accuracy\n",
    "\n",
    "def compute_accuracy(test_dataloader, model):\n",
    "    total_true = 0\n",
    "    total_size = 0\n",
    "    with torch.no_grad():\n",
    "        for batch in tqdm(test_dataloader):\n",
    "            t_data = batch[0].to(device)\n",
    "            t_mask = batch[1].to(device)\n",
    "            y = model(t_data,attention_mask=t_mask).logits\n",
    "            result = torch.argmax(y, dim=-1).cpu().detach().numpy()\n",
    "            nb_true, size = np.sum(result == np.array(batch[2])), len(result)\n",
    "            total_true += nb_true\n",
    "            total_size += size\n",
    "            t_data.cpu()\n",
    "            t_mask.cpu()\n",
    "            del batch\n",
    "            del y\n",
    "            del t_data\n",
    "            del t_mask\n",
    "            gc.collect()\n",
    "        \n",
    "    accuracy = total_true / total_size\n",
    "    return accuracy"
   ]
  },
  {
   "cell_type": "code",
   "execution_count": 12,
   "metadata": {},
   "outputs": [],
   "source": [
    "# extract parameters to optimize\n",
    "param_optimizer = list(model.named_parameters())\n",
    "no_decay = ['bias', 'gamma', 'beta']\n",
    "optimizer_grouped_parameters = [\n",
    "    {'params': [p for n, p in param_optimizer if not any(nd in n for nd in no_decay)],\n",
    "     'weight_decay_rate': 0.01},\n",
    "    {'params': [p for n, p in param_optimizer if any(nd in n for nd in no_decay)],\n",
    "     'weight_decay_rate': 0.0}\n",
    "]\n",
    "\n",
    "opt = torch.optim.Adam(optimizer_grouped_parameters, lr=2e-5, eps=10e-8)\n",
    "\n",
    "\n",
    "def train(classifier, data, epochs=20, log_interval=50):\n",
    "    best_acc = 0\n",
    "    losses = []\n",
    "    for epoch in range(epochs):\n",
    "        total_loss = 0\n",
    "        for idx, batch in enumerate(data):\n",
    "            # Unpack the inputs from our dataloader\n",
    "            b_input_ids, b_input_mask, b_labels = batch[0].to(device), batch[1].to(device), batch[2].to(device)\n",
    "            opt.zero_grad()\n",
    "            y_pred = classifier(b_input_ids, attention_mask=b_input_mask, labels=b_labels)\n",
    "            loss = y_pred[0]\n",
    "            loss.backward()\n",
    "            opt.step()\n",
    "            total_loss += loss.item()\n",
    "            ## del GPU variables to keep free memory\n",
    "            loss.detach().cpu()\n",
    "            b_input_ids.cpu()\n",
    "            b_input_mask.cpu()\n",
    "            b_labels.cpu()\n",
    "            del(y_pred)\n",
    "            del(loss)\n",
    "            del(batch)\n",
    "            del(b_input_ids, b_input_mask, b_labels)\n",
    "            gc.collect()\n",
    "            if idx % log_interval == 0 and idx > 0:\n",
    "                cur_loss = total_loss / log_interval\n",
    "                print(\n",
    "                    \"| epoch {:3d} | {:5d}/{:5d} steps | \"\n",
    "                    \"loss {:5.5f}\".format(\n",
    "                        epoch, idx, len(data), cur_loss,\n",
    "                    )\n",
    "                )\n",
    "                losses.append(cur_loss)\n",
    "                total_loss = 0\n",
    "        accuracy = compute_accuracy(test_dataloader, model)\n",
    "        print(\"Test accuracy : {:1.3f}\".format(accuracy))\n",
    "        # Save model if better\n",
    "        if accuracy > best_acc:\n",
    "            torch.save(model.state_dict(), '../models/camembert_body.pt')\n",
    "            best_acc = accuracy\n",
    "    return classifier"
   ]
  },
  {
   "cell_type": "code",
   "execution_count": 13,
   "metadata": {},
   "outputs": [
    {
     "name": "stdout",
     "output_type": "stream",
     "text": [
      "| epoch   0 |    50/ 1098 steps | loss 1.68970\n",
      "| epoch   0 |   100/ 1098 steps | loss 1.15655\n",
      "| epoch   0 |   150/ 1098 steps | loss 0.84601\n",
      "| epoch   0 |   200/ 1098 steps | loss 0.70602\n",
      "| epoch   0 |   250/ 1098 steps | loss 0.59924\n",
      "| epoch   0 |   300/ 1098 steps | loss 0.53821\n",
      "| epoch   0 |   350/ 1098 steps | loss 0.55994\n",
      "| epoch   0 |   400/ 1098 steps | loss 0.57116\n",
      "| epoch   0 |   450/ 1098 steps | loss 0.50614\n",
      "| epoch   0 |   500/ 1098 steps | loss 0.41025\n",
      "| epoch   0 |   550/ 1098 steps | loss 0.48176\n",
      "| epoch   0 |   600/ 1098 steps | loss 0.48946\n",
      "| epoch   0 |   650/ 1098 steps | loss 0.47954\n",
      "| epoch   0 |   700/ 1098 steps | loss 0.44145\n",
      "| epoch   0 |   750/ 1098 steps | loss 0.45988\n",
      "| epoch   0 |   800/ 1098 steps | loss 0.40361\n",
      "| epoch   0 |   850/ 1098 steps | loss 0.39754\n",
      "| epoch   0 |   900/ 1098 steps | loss 0.44728\n",
      "| epoch   0 |   950/ 1098 steps | loss 0.39776\n",
      "| epoch   0 |  1000/ 1098 steps | loss 0.47430\n",
      "| epoch   0 |  1050/ 1098 steps | loss 0.41064\n"
     ]
    },
    {
     "name": "stderr",
     "output_type": "stream",
     "text": [
      "100%|██████████| 442/442 [05:59<00:00,  1.23it/s]\n"
     ]
    },
    {
     "name": "stdout",
     "output_type": "stream",
     "text": [
      "Test accuracy : 0.877\n",
      "| epoch   1 |    50/ 1098 steps | loss 0.26882\n",
      "| epoch   1 |   100/ 1098 steps | loss 0.22644\n",
      "| epoch   1 |   150/ 1098 steps | loss 0.28461\n",
      "| epoch   1 |   200/ 1098 steps | loss 0.28751\n",
      "| epoch   1 |   250/ 1098 steps | loss 0.22755\n",
      "| epoch   1 |   300/ 1098 steps | loss 0.27200\n",
      "| epoch   1 |   350/ 1098 steps | loss 0.27090\n",
      "| epoch   1 |   400/ 1098 steps | loss 0.26907\n",
      "| epoch   1 |   450/ 1098 steps | loss 0.24045\n",
      "| epoch   1 |   500/ 1098 steps | loss 0.29988\n",
      "| epoch   1 |   550/ 1098 steps | loss 0.25600\n",
      "| epoch   1 |   600/ 1098 steps | loss 0.27258\n",
      "| epoch   1 |   650/ 1098 steps | loss 0.24662\n",
      "| epoch   1 |   700/ 1098 steps | loss 0.25836\n",
      "| epoch   1 |   750/ 1098 steps | loss 0.24618\n",
      "| epoch   1 |   800/ 1098 steps | loss 0.30069\n",
      "| epoch   1 |   850/ 1098 steps | loss 0.25951\n",
      "| epoch   1 |   900/ 1098 steps | loss 0.29822\n",
      "| epoch   1 |   950/ 1098 steps | loss 0.29950\n",
      "| epoch   1 |  1000/ 1098 steps | loss 0.25269\n",
      "| epoch   1 |  1050/ 1098 steps | loss 0.24433\n"
     ]
    },
    {
     "name": "stderr",
     "output_type": "stream",
     "text": [
      "100%|██████████| 442/442 [05:58<00:00,  1.23it/s]\n"
     ]
    },
    {
     "name": "stdout",
     "output_type": "stream",
     "text": [
      "Test accuracy : 0.869\n",
      "| epoch   2 |    50/ 1098 steps | loss 0.13905\n",
      "| epoch   2 |   100/ 1098 steps | loss 0.14859\n",
      "| epoch   2 |   150/ 1098 steps | loss 0.10529\n",
      "| epoch   2 |   200/ 1098 steps | loss 0.10571\n",
      "| epoch   2 |   250/ 1098 steps | loss 0.11824\n",
      "| epoch   2 |   300/ 1098 steps | loss 0.15860\n",
      "| epoch   2 |   350/ 1098 steps | loss 0.13644\n",
      "| epoch   2 |   400/ 1098 steps | loss 0.11747\n",
      "| epoch   2 |   450/ 1098 steps | loss 0.13399\n",
      "| epoch   2 |   500/ 1098 steps | loss 0.19055\n",
      "| epoch   2 |   550/ 1098 steps | loss 0.10289\n",
      "| epoch   2 |   600/ 1098 steps | loss 0.14413\n",
      "| epoch   2 |   650/ 1098 steps | loss 0.13801\n",
      "| epoch   2 |   700/ 1098 steps | loss 0.13358\n",
      "| epoch   2 |   750/ 1098 steps | loss 0.13630\n",
      "| epoch   2 |   800/ 1098 steps | loss 0.18985\n",
      "| epoch   2 |   850/ 1098 steps | loss 0.13210\n",
      "| epoch   2 |   900/ 1098 steps | loss 0.11770\n",
      "| epoch   2 |   950/ 1098 steps | loss 0.15944\n",
      "| epoch   2 |  1000/ 1098 steps | loss 0.10543\n",
      "| epoch   2 |  1050/ 1098 steps | loss 0.17946\n"
     ]
    },
    {
     "name": "stderr",
     "output_type": "stream",
     "text": [
      "100%|██████████| 442/442 [05:59<00:00,  1.23it/s]"
     ]
    },
    {
     "name": "stdout",
     "output_type": "stream",
     "text": [
      "Test accuracy : 0.863\n"
     ]
    },
    {
     "name": "stderr",
     "output_type": "stream",
     "text": [
      "\n"
     ]
    }
   ],
   "source": [
    "model = train(model, train_dataloader, 3)"
   ]
  },
  {
   "cell_type": "code",
   "execution_count": 43,
   "metadata": {},
   "outputs": [
    {
     "data": {
      "text/plain": [
       "(tensor([1, 2, 4, 2, 0, 1, 0, 5, 5, 2, 2, 2, 5, 0, 2, 1], device='cuda:0'),\n",
       " tensor([1, 2, 3, 2, 3, 4, 0, 2, 5, 2, 5, 2, 5, 0, 2, 1]))"
      ]
     },
     "execution_count": 43,
     "metadata": {},
     "output_type": "execute_result"
    }
   ],
   "source": [
    "batch = next(iter(test_dataloader))\n",
    "torch.argmax(model(batch[0].to(device),attention_mask=batch[1].to(device)).logits, dim=-1), batch[2]"
   ]
  }
 ],
 "metadata": {
  "kernelspec": {
   "display_name": "Python 3",
   "language": "python",
   "name": "python3"
  },
  "language_info": {
   "codemirror_mode": {
    "name": "ipython",
    "version": 3
   },
   "file_extension": ".py",
   "mimetype": "text/x-python",
   "name": "python",
   "nbconvert_exporter": "python",
   "pygments_lexer": "ipython3",
   "version": "3.10.8 (tags/v3.10.8:aaaf517, Oct 11 2022, 16:50:30) [MSC v.1933 64 bit (AMD64)]"
  },
  "orig_nbformat": 4,
  "vscode": {
   "interpreter": {
    "hash": "bbc3c3d932324566a9bf4b4a52ddf64063695fc3adbf25b3fda92572428493bb"
   }
  }
 },
 "nbformat": 4,
 "nbformat_minor": 2
}
