{
 "cells": [
  {
   "cell_type": "code",
   "execution_count": 1,
   "metadata": {},
   "outputs": [],
   "source": [
    "import pandas as pd\n",
    "import numpy as np\n",
    "import torch\n",
    "import torch.nn as nn\n",
    "from transformers import CamembertConfig, CamembertModel, AutoTokenizer, CamembertTokenizer, CamembertForSequenceClassification\n",
    "from torch.utils.data import TensorDataset, DataLoader, RandomSampler, SequentialSampler\n",
    "from sklearn.model_selection import train_test_split\n",
    "import functools\n",
    "from tqdm import tqdm\n",
    "\n",
    "device = 'cuda' if torch.cuda.is_available() else 'cpu'"
   ]
  },
  {
   "cell_type": "code",
   "execution_count": 2,
   "metadata": {},
   "outputs": [
    {
     "data": {
      "text/plain": [
       "array(['monde', 'france', 'politique', ...,\n",
       "       '920103-20120420-maintien-portee-bras',\n",
       "       '920099-20120420-campagne-passionne',\n",
       "       '920105-20120420-integration-pleine-promesses-mevlut-erding'],\n",
       "      dtype=object)"
      ]
     },
     "execution_count": 2,
     "metadata": {},
     "output_type": "execute_result"
    }
   ],
   "source": [
    "#Load 20 minutes articles\n",
    "df_articles = pd.read_json('../newspaper_2.jsonl', lines=True)\n",
    "df_articles.category_id.unique()"
   ]
  },
  {
   "cell_type": "code",
   "execution_count": 23,
   "metadata": {},
   "outputs": [],
   "source": [
    "df_articles = df_articles[(df_articles.title.str.len() > 0)]"
   ]
  },
  {
   "cell_type": "code",
   "execution_count": 24,
   "metadata": {},
   "outputs": [],
   "source": [
    "# Create test and train dataframes\n",
    "dict_labels = {'planete': 0, 'sport': 1, 'economie': 2, 'sciences': 3, 'high-tech': 4, 'politique': 5}\n",
    "p_train, p_test = train_test_split(df_articles[(df_articles.category_id == 'planete')], test_size=1000, train_size=3000)\n",
    "s_train, s_test = train_test_split(df_articles[(df_articles.category_id == 'sport')], test_size=1000, train_size=3000)\n",
    "e_train, e_test = train_test_split(df_articles[(df_articles.category_id == 'economie')], test_size=1000, train_size=3000)\n",
    "sc_train, sc_test = train_test_split(df_articles[(df_articles.category_id == 'sciences')], test_size=500, train_size=2000)\n",
    "h_train, h_test = train_test_split(df_articles[(df_articles.category_id == 'high-tech')], test_size=1000, train_size=3000)\n",
    "po_train, po_test = train_test_split(df_articles[(df_articles.category_id == 'politique')], test_size=1000, train_size=3000)\n",
    "train_dataset = pd.concat([p_train, s_train, e_train, sc_train, h_train, po_train])[['title', 'category_id']]\n",
    "train_dataset['label'] = train_dataset.apply(lambda x: dict_labels[x['category_id']], axis=1)\n",
    "test_dataset = pd.concat([p_test, s_test, e_test, sc_test, h_test, po_test])[['title', 'category_id']]\n",
    "test_dataset['label'] = test_dataset.apply(lambda x: dict_labels[x['category_id']], axis=1)"
   ]
  },
  {
   "cell_type": "code",
   "execution_count": 25,
   "metadata": {},
   "outputs": [],
   "source": [
    "# Set gloabal parameters and tokenizer\n",
    "MAX_LEN = 64\n",
    "batch_size = 16\n",
    "tokenizer = CamembertTokenizer.from_pretrained('camembert-base',do_lower_case=True)"
   ]
  },
  {
   "cell_type": "code",
   "execution_count": 26,
   "metadata": {},
   "outputs": [],
   "source": [
    "### Creation of the test dataset ###\n",
    "# Creates list of texts and labels\n",
    "text = test_dataset['title'].to_list()\n",
    "labels = test_dataset['label'].to_list()\n",
    "\n",
    "#user tokenizer to convert sentences into tokenizer\n",
    "input_ids  = tokenizer(text, max_length=MAX_LEN, padding='longest', truncation=True).input_ids\n",
    "\n",
    "# Create attention masks\n",
    "attention_masks = []\n",
    "# Create a mask of 1s for each token followed by 0s for padding\n",
    "for seq in input_ids:\n",
    "    seq_mask = [float(i!=1) for i in seq]  \n",
    "    attention_masks.append(seq_mask)"
   ]
  },
  {
   "cell_type": "code",
   "execution_count": 27,
   "metadata": {},
   "outputs": [],
   "source": [
    "# transfrom to tensor format\n",
    "test_inputs = torch.tensor(input_ids)\n",
    "test_labels = torch.tensor(labels)\n",
    "test_masks = torch.tensor(attention_masks)\n",
    "\n",
    "# create dataloader\n",
    "test_data = TensorDataset(test_inputs, test_masks, test_labels)\n",
    "test_sampler = RandomSampler(test_data)\n",
    "test_dataloader = DataLoader(test_data, sampler=test_sampler, batch_size=batch_size)"
   ]
  },
  {
   "cell_type": "code",
   "execution_count": 28,
   "metadata": {},
   "outputs": [],
   "source": [
    "# Creates list of texts and labels\n",
    "text = train_dataset['title'].to_list()\n",
    "labels = train_dataset['label'].to_list()\n",
    "\n",
    "#user tokenizer to convert sentences into tokenizer\n",
    "input_ids  = tokenizer(text, max_length=MAX_LEN, padding='longest', truncation=True).input_ids\n",
    "\n",
    "# Create attention masks\n",
    "attention_masks = []\n",
    "# Create a mask of 1s for each token followed by 0s for padding\n",
    "for seq in input_ids:\n",
    "    seq_mask = [float(i!=1) for i in seq]  \n",
    "    attention_masks.append(seq_mask)"
   ]
  },
  {
   "cell_type": "code",
   "execution_count": 29,
   "metadata": {},
   "outputs": [],
   "source": [
    "# transfrom to tensor format\n",
    "train_inputs = torch.tensor(input_ids)\n",
    "train_labels = torch.tensor(labels)\n",
    "train_masks = torch.tensor(attention_masks)\n",
    "\n",
    "# create dataloader\n",
    "train_data = TensorDataset(train_inputs, train_masks, train_labels)\n",
    "train_sampler = RandomSampler(train_data)\n",
    "train_dataloader = DataLoader(train_data, sampler=train_sampler, batch_size=batch_size)"
   ]
  },
  {
   "cell_type": "code",
   "execution_count": 30,
   "metadata": {},
   "outputs": [
    {
     "name": "stderr",
     "output_type": "stream",
     "text": [
      "Some weights of the model checkpoint at camembert-base were not used when initializing CamembertForSequenceClassification: ['lm_head.layer_norm.bias', 'roberta.pooler.dense.bias', 'lm_head.dense.weight', 'lm_head.decoder.weight', 'lm_head.layer_norm.weight', 'roberta.pooler.dense.weight', 'lm_head.dense.bias', 'lm_head.bias']\n",
      "- This IS expected if you are initializing CamembertForSequenceClassification from the checkpoint of a model trained on another task or with another architecture (e.g. initializing a BertForSequenceClassification model from a BertForPreTraining model).\n",
      "- This IS NOT expected if you are initializing CamembertForSequenceClassification from the checkpoint of a model that you expect to be exactly identical (initializing a BertForSequenceClassification model from a BertForSequenceClassification model).\n",
      "Some weights of CamembertForSequenceClassification were not initialized from the model checkpoint at camembert-base and are newly initialized: ['classifier.dense.weight', 'classifier.dense.bias', 'classifier.out_proj.weight', 'classifier.out_proj.bias']\n",
      "You should probably TRAIN this model on a down-stream task to be able to use it for predictions and inference.\n"
     ]
    }
   ],
   "source": [
    "# Load pretained model\n",
    "model = CamembertForSequenceClassification.from_pretrained(\"camembert-base\", num_labels=6)"
   ]
  },
  {
   "cell_type": "code",
   "execution_count": 6,
   "metadata": {},
   "outputs": [],
   "source": [
    "# deprecated\n",
    "class Classifier(nn.Module):\n",
    "    def __init__(self, input_dim=768, out_dim=3):\n",
    "        super(Classifier, self).__init__()\n",
    "        self.dense = nn.Linear(input_dim,out_dim, bias=True)\n",
    "        self.activation = nn.Softmax(dim=-1)\n",
    "    def forward(self, x):\n",
    "        x = torch.mean(x, dim=-2)\n",
    "        x = self.dense(x)\n",
    "        return self.activation(x)\n",
    "\n",
    "classif_layer = Classifier()"
   ]
  },
  {
   "cell_type": "code",
   "execution_count": 31,
   "metadata": {},
   "outputs": [],
   "source": [
    "# function to compute accuracy\n",
    "\n",
    "def compute_accuracy(test_dataloader, model):\n",
    "    total_true = 0\n",
    "    total_size = 0\n",
    "    for batch in tqdm(test_dataloader):\n",
    "        y = model(batch[0].to(device),attention_mask=batch[1].to(device)).logits\n",
    "        result = torch.argmax(y, dim=-1).cpu().detach().numpy()\n",
    "        nb_true, size = np.sum(result == np.array(batch[2])), len(result)\n",
    "        total_true += nb_true\n",
    "        total_size += size\n",
    "    accuracy = total_true / total_size\n",
    "    return accuracy"
   ]
  },
  {
   "cell_type": "code",
   "execution_count": 32,
   "metadata": {},
   "outputs": [],
   "source": [
    "import gc\n",
    "\n",
    "param_optimizer = list(model.named_parameters())\n",
    "no_decay = ['bias', 'gamma', 'beta']\n",
    "optimizer_grouped_parameters = [\n",
    "    {'params': [p for n, p in param_optimizer if not any(nd in n for nd in no_decay)],\n",
    "     'weight_decay_rate': 0.01},\n",
    "    {'params': [p for n, p in param_optimizer if any(nd in n for nd in no_decay)],\n",
    "     'weight_decay_rate': 0.0}\n",
    "]\n",
    "\n",
    "opt = torch.optim.Adam(optimizer_grouped_parameters, lr=2e-5, eps=10e-8)\n",
    "\n",
    "\n",
    "def train(classifier, data, epochs=20, log_interval=50):\n",
    "    classifier.to(device)\n",
    "    \n",
    "    classifier.train()\n",
    "    criterion = nn.CrossEntropyLoss()\n",
    "    losses = []\n",
    "    for epoch in range(epochs):\n",
    "        total_loss = 0\n",
    "        for idx, batch in enumerate(data):\n",
    "            batch = tuple(t.to(device) for t in batch)\n",
    "            # Unpack the inputs from our dataloader\n",
    "            b_input_ids, b_input_mask, b_labels = batch\n",
    "            opt.zero_grad()\n",
    "            y_pred = classifier(b_input_ids, attention_mask=b_input_mask, labels=b_labels)\n",
    "            loss = y_pred[0]\n",
    "            loss.backward()\n",
    "            opt.step()\n",
    "            total_loss += loss.item()\n",
    "            del(y_pred)\n",
    "            del(loss)\n",
    "            del(batch)\n",
    "            del(b_input_ids, b_input_mask, b_labels)\n",
    "            gc.collect()\n",
    "            if idx % log_interval == 0 and idx > 0:\n",
    "                cur_loss = total_loss / log_interval\n",
    "                print(\n",
    "                    \"| epoch {:3d} | {:5d}/{:5d} steps | \"\n",
    "                    \"loss {:5.5f}\".format(\n",
    "                        epoch, idx, len(data), cur_loss,\n",
    "                    )\n",
    "                )\n",
    "                losses.append(cur_loss)\n",
    "                total_loss = 0\n",
    "        accuracy = compute_accuracy(test_dataloader, model)\n",
    "        print(\"Test accuracy : {:1.3f}\".format(accuracy))\n",
    "    return classifier"
   ]
  },
  {
   "cell_type": "code",
   "execution_count": 33,
   "metadata": {},
   "outputs": [
    {
     "name": "stdout",
     "output_type": "stream",
     "text": [
      "| epoch   0 |    50/ 1063 steps | loss 1.74396\n",
      "| epoch   0 |   100/ 1063 steps | loss 1.33060\n",
      "| epoch   0 |   150/ 1063 steps | loss 1.02518\n",
      "| epoch   0 |   200/ 1063 steps | loss 0.82199\n",
      "| epoch   0 |   250/ 1063 steps | loss 0.62989\n",
      "| epoch   0 |   300/ 1063 steps | loss 0.62657\n",
      "| epoch   0 |   350/ 1063 steps | loss 0.57206\n",
      "| epoch   0 |   400/ 1063 steps | loss 0.58551\n",
      "| epoch   0 |   450/ 1063 steps | loss 0.52673\n",
      "| epoch   0 |   500/ 1063 steps | loss 0.55081\n",
      "| epoch   0 |   550/ 1063 steps | loss 0.46289\n",
      "| epoch   0 |   600/ 1063 steps | loss 0.52210\n",
      "| epoch   0 |   650/ 1063 steps | loss 0.45767\n",
      "| epoch   0 |   700/ 1063 steps | loss 0.39977\n",
      "| epoch   0 |   750/ 1063 steps | loss 0.47930\n",
      "| epoch   0 |   800/ 1063 steps | loss 0.36456\n",
      "| epoch   0 |   850/ 1063 steps | loss 0.49081\n",
      "| epoch   0 |   900/ 1063 steps | loss 0.40859\n",
      "| epoch   0 |   950/ 1063 steps | loss 0.44712\n",
      "| epoch   0 |  1000/ 1063 steps | loss 0.46418\n",
      "| epoch   0 |  1050/ 1063 steps | loss 0.50876\n"
     ]
    },
    {
     "name": "stderr",
     "output_type": "stream",
     "text": [
      "100%|██████████| 344/344 [00:20<00:00, 16.50it/s]"
     ]
    },
    {
     "name": "stdout",
     "output_type": "stream",
     "text": [
      "Test accuracy : 0.858\n"
     ]
    },
    {
     "name": "stderr",
     "output_type": "stream",
     "text": [
      "\n"
     ]
    }
   ],
   "source": [
    "model = train(model, train_dataloader, 4)"
   ]
  },
  {
   "cell_type": "code",
   "execution_count": 36,
   "metadata": {},
   "outputs": [
    {
     "name": "stdout",
     "output_type": "stream",
     "text": [
      "| epoch   0 |    50/ 1063 steps | loss 0.32294\n",
      "| epoch   0 |   100/ 1063 steps | loss 0.35047\n",
      "| epoch   0 |   150/ 1063 steps | loss 0.28466\n",
      "| epoch   0 |   200/ 1063 steps | loss 0.36647\n",
      "| epoch   0 |   250/ 1063 steps | loss 0.35946\n",
      "| epoch   0 |   300/ 1063 steps | loss 0.31606\n",
      "| epoch   0 |   350/ 1063 steps | loss 0.31042\n",
      "| epoch   0 |   400/ 1063 steps | loss 0.31099\n",
      "| epoch   0 |   450/ 1063 steps | loss 0.30681\n",
      "| epoch   0 |   500/ 1063 steps | loss 0.27846\n",
      "| epoch   0 |   550/ 1063 steps | loss 0.35523\n",
      "| epoch   0 |   600/ 1063 steps | loss 0.34284\n",
      "| epoch   0 |   650/ 1063 steps | loss 0.33361\n",
      "| epoch   0 |   700/ 1063 steps | loss 0.29429\n",
      "| epoch   0 |   750/ 1063 steps | loss 0.32030\n",
      "| epoch   0 |   800/ 1063 steps | loss 0.40919\n",
      "| epoch   0 |   850/ 1063 steps | loss 0.31396\n",
      "| epoch   0 |   900/ 1063 steps | loss 0.28274\n",
      "| epoch   0 |   950/ 1063 steps | loss 0.39852\n",
      "| epoch   0 |  1000/ 1063 steps | loss 0.30360\n",
      "| epoch   0 |  1050/ 1063 steps | loss 0.31597\n"
     ]
    },
    {
     "name": "stderr",
     "output_type": "stream",
     "text": [
      "100%|██████████| 344/344 [00:21<00:00, 15.67it/s]\n"
     ]
    },
    {
     "name": "stdout",
     "output_type": "stream",
     "text": [
      "Test accuracy : 0.873\n",
      "| epoch   1 |    50/ 1063 steps | loss 0.20977\n",
      "| epoch   1 |   100/ 1063 steps | loss 0.20234\n",
      "| epoch   1 |   150/ 1063 steps | loss 0.19773\n",
      "| epoch   1 |   200/ 1063 steps | loss 0.20737\n",
      "| epoch   1 |   250/ 1063 steps | loss 0.24493\n",
      "| epoch   1 |   300/ 1063 steps | loss 0.22667\n",
      "| epoch   1 |   350/ 1063 steps | loss 0.26726\n",
      "| epoch   1 |   400/ 1063 steps | loss 0.19093\n",
      "| epoch   1 |   450/ 1063 steps | loss 0.21684\n",
      "| epoch   1 |   500/ 1063 steps | loss 0.24264\n",
      "| epoch   1 |   550/ 1063 steps | loss 0.22874\n",
      "| epoch   1 |   600/ 1063 steps | loss 0.24548\n",
      "| epoch   1 |   650/ 1063 steps | loss 0.22909\n",
      "| epoch   1 |   700/ 1063 steps | loss 0.25723\n",
      "| epoch   1 |   750/ 1063 steps | loss 0.19324\n",
      "| epoch   1 |   800/ 1063 steps | loss 0.22111\n",
      "| epoch   1 |   850/ 1063 steps | loss 0.19182\n",
      "| epoch   1 |   900/ 1063 steps | loss 0.21769\n",
      "| epoch   1 |   950/ 1063 steps | loss 0.19969\n",
      "| epoch   1 |  1000/ 1063 steps | loss 0.21325\n",
      "| epoch   1 |  1050/ 1063 steps | loss 0.23160\n"
     ]
    },
    {
     "name": "stderr",
     "output_type": "stream",
     "text": [
      "100%|██████████| 344/344 [00:20<00:00, 17.11it/s]\n"
     ]
    },
    {
     "name": "stdout",
     "output_type": "stream",
     "text": [
      "Test accuracy : 0.871\n",
      "| epoch   2 |    50/ 1063 steps | loss 0.15167\n",
      "| epoch   2 |   100/ 1063 steps | loss 0.15312\n",
      "| epoch   2 |   150/ 1063 steps | loss 0.14411\n",
      "| epoch   2 |   200/ 1063 steps | loss 0.14820\n",
      "| epoch   2 |   250/ 1063 steps | loss 0.17382\n",
      "| epoch   2 |   300/ 1063 steps | loss 0.15113\n",
      "| epoch   2 |   350/ 1063 steps | loss 0.18655\n",
      "| epoch   2 |   400/ 1063 steps | loss 0.15068\n",
      "| epoch   2 |   450/ 1063 steps | loss 0.11083\n",
      "| epoch   2 |   500/ 1063 steps | loss 0.16563\n",
      "| epoch   2 |   550/ 1063 steps | loss 0.15788\n",
      "| epoch   2 |   600/ 1063 steps | loss 0.13256\n",
      "| epoch   2 |   650/ 1063 steps | loss 0.17209\n",
      "| epoch   2 |   700/ 1063 steps | loss 0.17870\n",
      "| epoch   2 |   750/ 1063 steps | loss 0.19622\n",
      "| epoch   2 |   800/ 1063 steps | loss 0.13628\n",
      "| epoch   2 |   850/ 1063 steps | loss 0.12482\n",
      "| epoch   2 |   900/ 1063 steps | loss 0.14070\n",
      "| epoch   2 |   950/ 1063 steps | loss 0.13486\n",
      "| epoch   2 |  1000/ 1063 steps | loss 0.17198\n",
      "| epoch   2 |  1050/ 1063 steps | loss 0.15026\n"
     ]
    },
    {
     "name": "stderr",
     "output_type": "stream",
     "text": [
      "100%|██████████| 344/344 [00:20<00:00, 16.83it/s]\n"
     ]
    },
    {
     "name": "stdout",
     "output_type": "stream",
     "text": [
      "Test accuracy : 0.872\n",
      "| epoch   3 |    50/ 1063 steps | loss 0.13312\n",
      "| epoch   3 |   100/ 1063 steps | loss 0.11788\n",
      "| epoch   3 |   150/ 1063 steps | loss 0.10343\n",
      "| epoch   3 |   200/ 1063 steps | loss 0.07253\n",
      "| epoch   3 |   250/ 1063 steps | loss 0.08438\n",
      "| epoch   3 |   300/ 1063 steps | loss 0.08621\n",
      "| epoch   3 |   350/ 1063 steps | loss 0.07246\n",
      "| epoch   3 |   400/ 1063 steps | loss 0.12501\n",
      "| epoch   3 |   450/ 1063 steps | loss 0.10974\n",
      "| epoch   3 |   500/ 1063 steps | loss 0.08955\n",
      "| epoch   3 |   550/ 1063 steps | loss 0.13055\n",
      "| epoch   3 |   600/ 1063 steps | loss 0.07620\n",
      "| epoch   3 |   650/ 1063 steps | loss 0.10776\n",
      "| epoch   3 |   700/ 1063 steps | loss 0.10448\n",
      "| epoch   3 |   750/ 1063 steps | loss 0.11913\n",
      "| epoch   3 |   800/ 1063 steps | loss 0.10788\n",
      "| epoch   3 |   850/ 1063 steps | loss 0.12941\n",
      "| epoch   3 |   900/ 1063 steps | loss 0.12349\n",
      "| epoch   3 |   950/ 1063 steps | loss 0.12325\n",
      "| epoch   3 |  1000/ 1063 steps | loss 0.17177\n",
      "| epoch   3 |  1050/ 1063 steps | loss 0.11377\n"
     ]
    },
    {
     "name": "stderr",
     "output_type": "stream",
     "text": [
      "100%|██████████| 344/344 [00:20<00:00, 17.00it/s]"
     ]
    },
    {
     "name": "stdout",
     "output_type": "stream",
     "text": [
      "Test accuracy : 0.869\n"
     ]
    },
    {
     "name": "stderr",
     "output_type": "stream",
     "text": [
      "\n"
     ]
    }
   ],
   "source": [
    "model = train(model, train_dataloader, 4)"
   ]
  },
  {
   "cell_type": "code",
   "execution_count": 43,
   "metadata": {},
   "outputs": [
    {
     "data": {
      "text/plain": [
       "(tensor([1, 2, 4, 2, 0, 1, 0, 5, 5, 2, 2, 2, 5, 0, 2, 1], device='cuda:0'),\n",
       " tensor([1, 2, 3, 2, 3, 4, 0, 2, 5, 2, 5, 2, 5, 0, 2, 1]))"
      ]
     },
     "execution_count": 43,
     "metadata": {},
     "output_type": "execute_result"
    }
   ],
   "source": [
    "batch = next(iter(test_dataloader))\n",
    "torch.argmax(model(batch[0].to(device),attention_mask=batch[1].to(device)).logits, dim=-1), batch[2]"
   ]
  }
 ],
 "metadata": {
  "kernelspec": {
   "display_name": "Python 3",
   "language": "python",
   "name": "python3"
  },
  "language_info": {
   "codemirror_mode": {
    "name": "ipython",
    "version": 3
   },
   "file_extension": ".py",
   "mimetype": "text/x-python",
   "name": "python",
   "nbconvert_exporter": "python",
   "pygments_lexer": "ipython3",
   "version": "3.10.8 (tags/v3.10.8:aaaf517, Oct 11 2022, 16:50:30) [MSC v.1933 64 bit (AMD64)]"
  },
  "orig_nbformat": 4,
  "vscode": {
   "interpreter": {
    "hash": "bbc3c3d932324566a9bf4b4a52ddf64063695fc3adbf25b3fda92572428493bb"
   }
  }
 },
 "nbformat": 4,
 "nbformat_minor": 2
}
