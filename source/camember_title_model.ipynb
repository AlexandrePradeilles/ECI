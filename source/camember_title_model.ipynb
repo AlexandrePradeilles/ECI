{
 "cells": [
  {
   "cell_type": "code",
   "execution_count": 1,
   "metadata": {},
   "outputs": [],
   "source": [
    "import pandas as pd\n",
    "import numpy as np\n",
    "import torch\n",
    "import torch.nn as nn\n",
    "from transformers import CamembertConfig, CamembertModel, AutoTokenizer, CamembertTokenizer, CamembertForSequenceClassification\n",
    "from torch.utils.data import TensorDataset, DataLoader, RandomSampler, SequentialSampler\n",
    "from sklearn.model_selection import train_test_split\n",
    "import functools\n",
    "from tqdm import tqdm\n",
    "import gc\n",
    "\n",
    "device = 'cuda' if torch.cuda.is_available() else 'cpu'"
   ]
  },
  {
   "cell_type": "code",
   "execution_count": 2,
   "metadata": {},
   "outputs": [],
   "source": [
    "#Load 20 minutes articles\n",
    "df_articles = pd.read_json('../newspaper_2.jsonl', lines=True)"
   ]
  },
  {
   "cell_type": "code",
   "execution_count": 3,
   "metadata": {},
   "outputs": [],
   "source": [
    "# Create test and train dataframes\n",
    "dict_labels = {'planete': 0, 'sport': 1, 'economie': 2, 'sciences': 3, 'high-tech': 4, 'politique': 5}\n",
    "p_train, p_test = train_test_split(df_articles[(df_articles.category_id == 'planete')], test_size=1000, train_size=3000, random_state=42)\n",
    "s_train, s_test = train_test_split(df_articles[(df_articles.category_id == 'sport')], test_size=1000, train_size=3000, random_state=42)\n",
    "e_train, e_test = train_test_split(df_articles[(df_articles.category_id == 'economie')], test_size=1000, train_size=3000, random_state=42)\n",
    "sc_train, sc_test = train_test_split(df_articles[(df_articles.category_id == 'sciences')], test_size=500, train_size=2000, random_state=42)\n",
    "h_train, h_test = train_test_split(df_articles[(df_articles.category_id == 'high-tech')], test_size=1000, train_size=3000, random_state=42)\n",
    "po_train, po_test = train_test_split(df_articles[(df_articles.category_id == 'politique')], test_size=1000, train_size=3000, random_state=42)\n",
    "train_dataset = pd.concat([p_train, s_train, e_train, sc_train, h_train, po_train])[['title', 'category_id']]\n",
    "train_dataset['label'] = train_dataset.apply(lambda x: dict_labels[x['category_id']], axis=1)\n",
    "test_dataset = pd.concat([p_test, s_test, e_test, sc_test, h_test, po_test])[['title', 'category_id']]\n",
    "test_dataset['label'] = test_dataset.apply(lambda x: dict_labels[x['category_id']], axis=1)"
   ]
  },
  {
   "cell_type": "code",
   "execution_count": 4,
   "metadata": {},
   "outputs": [],
   "source": [
    "# Set gloabal parameters and tokenizer\n",
    "MAX_LEN = 64\n",
    "batch_size = 16\n",
    "tokenizer = CamembertTokenizer.from_pretrained('camembert-base',do_lower_case=True)"
   ]
  },
  {
   "cell_type": "code",
   "execution_count": 5,
   "metadata": {},
   "outputs": [],
   "source": [
    "### Creation of the test dataset ###\n",
    "# Creates list of texts and labels\n",
    "text = test_dataset['title'].to_list()\n",
    "labels = test_dataset['label'].to_list()\n",
    "\n",
    "#user tokenizer to convert sentences into tokenizer\n",
    "input_ids  = tokenizer(text, max_length=MAX_LEN, padding='longest', truncation=True).input_ids\n",
    "\n",
    "# Create attention masks\n",
    "attention_masks = []\n",
    "# Create a mask of 1s for each token followed by 0s for padding\n",
    "for seq in input_ids:\n",
    "    seq_mask = [float(i!=1) for i in seq]  \n",
    "    attention_masks.append(seq_mask)"
   ]
  },
  {
   "cell_type": "code",
   "execution_count": 6,
   "metadata": {},
   "outputs": [],
   "source": [
    "# transfrom to tensor format\n",
    "test_inputs = torch.tensor(input_ids)\n",
    "test_labels = torch.tensor(labels)\n",
    "test_masks = torch.tensor(attention_masks)\n",
    "\n",
    "# create dataloader\n",
    "test_data = TensorDataset(test_inputs, test_masks, test_labels)\n",
    "test_sampler = RandomSampler(test_data)\n",
    "test_dataloader = DataLoader(test_data, sampler=test_sampler, batch_size=batch_size)"
   ]
  },
  {
   "cell_type": "code",
   "execution_count": 7,
   "metadata": {},
   "outputs": [],
   "source": [
    "# Creates list of texts and labels\n",
    "text = train_dataset['title'].to_list()\n",
    "labels = train_dataset['label'].to_list()\n",
    "\n",
    "#user tokenizer to convert sentences into tokenizer\n",
    "input_ids  = tokenizer(text, max_length=MAX_LEN, padding='longest', truncation=True).input_ids\n",
    "\n",
    "# Create attention masks\n",
    "attention_masks = []\n",
    "# Create a mask of 1s for each token followed by 0s for padding\n",
    "for seq in input_ids:\n",
    "    seq_mask = [float(i!=1) for i in seq]  \n",
    "    attention_masks.append(seq_mask)"
   ]
  },
  {
   "cell_type": "code",
   "execution_count": 8,
   "metadata": {},
   "outputs": [],
   "source": [
    "# transfrom to tensor format\n",
    "train_inputs = torch.tensor(input_ids)\n",
    "train_labels = torch.tensor(labels)\n",
    "train_masks = torch.tensor(attention_masks)\n",
    "\n",
    "# create dataloader\n",
    "train_data = TensorDataset(train_inputs, train_masks, train_labels)\n",
    "train_sampler = RandomSampler(train_data)\n",
    "train_dataloader = DataLoader(train_data, sampler=train_sampler, batch_size=batch_size)"
   ]
  },
  {
   "cell_type": "code",
   "execution_count": 9,
   "metadata": {},
   "outputs": [
    {
     "name": "stderr",
     "output_type": "stream",
     "text": [
      "Some weights of the model checkpoint at camembert-base were not used when initializing CamembertForSequenceClassification: ['roberta.pooler.dense.weight', 'lm_head.dense.bias', 'lm_head.bias', 'lm_head.decoder.weight', 'lm_head.layer_norm.bias', 'roberta.pooler.dense.bias', 'lm_head.dense.weight', 'lm_head.layer_norm.weight']\n",
      "- This IS expected if you are initializing CamembertForSequenceClassification from the checkpoint of a model trained on another task or with another architecture (e.g. initializing a BertForSequenceClassification model from a BertForPreTraining model).\n",
      "- This IS NOT expected if you are initializing CamembertForSequenceClassification from the checkpoint of a model that you expect to be exactly identical (initializing a BertForSequenceClassification model from a BertForSequenceClassification model).\n",
      "Some weights of CamembertForSequenceClassification were not initialized from the model checkpoint at camembert-base and are newly initialized: ['classifier.out_proj.bias', 'classifier.dense.bias', 'classifier.dense.weight', 'classifier.out_proj.weight']\n",
      "You should probably TRAIN this model on a down-stream task to be able to use it for predictions and inference.\n"
     ]
    }
   ],
   "source": [
    "# Load pretained model\n",
    "model = CamembertForSequenceClassification.from_pretrained(\"camembert-base\", num_labels=6).to(device)"
   ]
  },
  {
   "cell_type": "code",
   "execution_count": 10,
   "metadata": {},
   "outputs": [],
   "source": [
    "# function to compute accuracy\n",
    "\n",
    "def compute_accuracy(test_dataloader, model):\n",
    "    total_true = 0\n",
    "    total_size = 0\n",
    "    with torch.no_grad():\n",
    "        for batch in tqdm(test_dataloader):\n",
    "            t_data = batch[0].to(device)\n",
    "            t_mask = batch[1].to(device)\n",
    "            y = model(t_data,attention_mask=t_mask).logits\n",
    "            result = torch.argmax(y, dim=-1).cpu().detach().numpy()\n",
    "            nb_true, size = np.sum(result == np.array(batch[2])), len(result)\n",
    "            total_true += nb_true\n",
    "            total_size += size\n",
    "            t_data.cpu()\n",
    "            t_mask.cpu()\n",
    "            del batch\n",
    "            del y\n",
    "            del t_data\n",
    "            del t_mask\n",
    "            gc.collect()\n",
    "        \n",
    "    accuracy = total_true / total_size\n",
    "    return accuracy"
   ]
  },
  {
   "cell_type": "code",
   "execution_count": 11,
   "metadata": {},
   "outputs": [],
   "source": [
    "# extract parameters to optimize\n",
    "param_optimizer = list(model.named_parameters())\n",
    "no_decay = ['bias', 'gamma', 'beta']\n",
    "optimizer_grouped_parameters = [\n",
    "    {'params': [p for n, p in param_optimizer if not any(nd in n for nd in no_decay)],\n",
    "     'weight_decay_rate': 0.01},\n",
    "    {'params': [p for n, p in param_optimizer if any(nd in n for nd in no_decay)],\n",
    "     'weight_decay_rate': 0.0}\n",
    "]\n",
    "\n",
    "opt = torch.optim.Adam(optimizer_grouped_parameters, lr=2e-5, eps=10e-8)\n",
    "\n",
    "\n",
    "def train(classifier, data, epochs=5, log_interval=50):\n",
    "    best_acc = 0\n",
    "    losses = []\n",
    "    for epoch in range(epochs):\n",
    "        total_loss = 0\n",
    "        for idx, batch in enumerate(data):\n",
    "            # Unpack the inputs from our dataloader\n",
    "            b_input_ids, b_input_mask, b_labels = batch[0].to(device), batch[1].to(device), batch[2].to(device)\n",
    "            # Train model on batch\n",
    "            opt.zero_grad()\n",
    "            y_pred = classifier(b_input_ids, attention_mask=b_input_mask, labels=b_labels)\n",
    "            loss = y_pred[0]\n",
    "            loss.backward()\n",
    "            opt.step()\n",
    "            total_loss += loss.item()\n",
    "            # delete variables to keep memory on gpu\n",
    "            loss.detach().cpu()\n",
    "            b_input_ids.cpu()\n",
    "            b_input_mask.cpu()\n",
    "            b_labels.cpu()\n",
    "            del(y_pred)\n",
    "            del(loss)\n",
    "            del(batch)\n",
    "            del(b_input_ids, b_input_mask, b_labels)\n",
    "            gc.collect()\n",
    "            if idx % log_interval == 0 and idx > 0:\n",
    "                cur_loss = total_loss / log_interval\n",
    "                print(\n",
    "                    \"| epoch {:3d} | {:5d}/{:5d} steps | \"\n",
    "                    \"loss {:5.5f}\".format(\n",
    "                        epoch, idx, len(data), cur_loss,\n",
    "                    )\n",
    "                )\n",
    "                losses.append(cur_loss)\n",
    "                total_loss = 0\n",
    "        accuracy = compute_accuracy(test_dataloader, model)\n",
    "        print(\"Test accuracy : {:1.3f}\".format(accuracy))\n",
    "        # Save model if better\n",
    "        if accuracy > best_acc:\n",
    "            torch.save(model.state_dict(), '../models/camembert_title.pt')\n",
    "            best_acc = accuracy\n",
    "    return classifier"
   ]
  },
  {
   "cell_type": "code",
   "execution_count": 12,
   "metadata": {},
   "outputs": [
    {
     "name": "stdout",
     "output_type": "stream",
     "text": [
      "| epoch   0 |    50/ 1063 steps | loss 1.67313\n",
      "| epoch   0 |   100/ 1063 steps | loss 1.12745\n",
      "| epoch   0 |   150/ 1063 steps | loss 0.79563\n",
      "| epoch   0 |   200/ 1063 steps | loss 0.64746\n",
      "| epoch   0 |   250/ 1063 steps | loss 0.57306\n",
      "| epoch   0 |   300/ 1063 steps | loss 0.58230\n",
      "| epoch   0 |   350/ 1063 steps | loss 0.46233\n",
      "| epoch   0 |   400/ 1063 steps | loss 0.53558\n",
      "| epoch   0 |   450/ 1063 steps | loss 0.46556\n",
      "| epoch   0 |   500/ 1063 steps | loss 0.42260\n",
      "| epoch   0 |   550/ 1063 steps | loss 0.46531\n",
      "| epoch   0 |   600/ 1063 steps | loss 0.45846\n",
      "| epoch   0 |   650/ 1063 steps | loss 0.42746\n",
      "| epoch   0 |   700/ 1063 steps | loss 0.39499\n",
      "| epoch   0 |   750/ 1063 steps | loss 0.37881\n",
      "| epoch   0 |   800/ 1063 steps | loss 0.37854\n",
      "| epoch   0 |   850/ 1063 steps | loss 0.42017\n",
      "| epoch   0 |   900/ 1063 steps | loss 0.40318\n",
      "| epoch   0 |   950/ 1063 steps | loss 0.41158\n",
      "| epoch   0 |  1000/ 1063 steps | loss 0.37898\n",
      "| epoch   0 |  1050/ 1063 steps | loss 0.38384\n"
     ]
    },
    {
     "name": "stderr",
     "output_type": "stream",
     "text": [
      "100%|██████████| 344/344 [00:43<00:00,  7.93it/s]\n"
     ]
    },
    {
     "name": "stdout",
     "output_type": "stream",
     "text": [
      "Test accuracy : 0.871\n",
      "| epoch   1 |    50/ 1063 steps | loss 0.23886\n",
      "| epoch   1 |   100/ 1063 steps | loss 0.24896\n",
      "| epoch   1 |   150/ 1063 steps | loss 0.23645\n",
      "| epoch   1 |   200/ 1063 steps | loss 0.18058\n",
      "| epoch   1 |   250/ 1063 steps | loss 0.22725\n",
      "| epoch   1 |   300/ 1063 steps | loss 0.18875\n",
      "| epoch   1 |   350/ 1063 steps | loss 0.23713\n",
      "| epoch   1 |   400/ 1063 steps | loss 0.22972\n",
      "| epoch   1 |   450/ 1063 steps | loss 0.21263\n",
      "| epoch   1 |   500/ 1063 steps | loss 0.26363\n",
      "| epoch   1 |   550/ 1063 steps | loss 0.20662\n",
      "| epoch   1 |   600/ 1063 steps | loss 0.24101\n",
      "| epoch   1 |   650/ 1063 steps | loss 0.20196\n",
      "| epoch   1 |   700/ 1063 steps | loss 0.26192\n",
      "| epoch   1 |   750/ 1063 steps | loss 0.23935\n",
      "| epoch   1 |   800/ 1063 steps | loss 0.23952\n",
      "| epoch   1 |   850/ 1063 steps | loss 0.20182\n",
      "| epoch   1 |   900/ 1063 steps | loss 0.21730\n",
      "| epoch   1 |   950/ 1063 steps | loss 0.25327\n",
      "| epoch   1 |  1000/ 1063 steps | loss 0.29918\n",
      "| epoch   1 |  1050/ 1063 steps | loss 0.24496\n"
     ]
    },
    {
     "name": "stderr",
     "output_type": "stream",
     "text": [
      "100%|██████████| 344/344 [00:44<00:00,  7.81it/s]\n"
     ]
    },
    {
     "name": "stdout",
     "output_type": "stream",
     "text": [
      "Test accuracy : 0.874\n",
      "| epoch   2 |    50/ 1063 steps | loss 0.14834\n",
      "| epoch   2 |   100/ 1063 steps | loss 0.11662\n",
      "| epoch   2 |   150/ 1063 steps | loss 0.11539\n",
      "| epoch   2 |   200/ 1063 steps | loss 0.12549\n",
      "| epoch   2 |   250/ 1063 steps | loss 0.10465\n",
      "| epoch   2 |   300/ 1063 steps | loss 0.10881\n",
      "| epoch   2 |   350/ 1063 steps | loss 0.09504\n",
      "| epoch   2 |   400/ 1063 steps | loss 0.10627\n",
      "| epoch   2 |   450/ 1063 steps | loss 0.09017\n",
      "| epoch   2 |   500/ 1063 steps | loss 0.13100\n",
      "| epoch   2 |   550/ 1063 steps | loss 0.12735\n",
      "| epoch   2 |   600/ 1063 steps | loss 0.14032\n",
      "| epoch   2 |   650/ 1063 steps | loss 0.12218\n",
      "| epoch   2 |   700/ 1063 steps | loss 0.13462\n",
      "| epoch   2 |   750/ 1063 steps | loss 0.15819\n",
      "| epoch   2 |   800/ 1063 steps | loss 0.12988\n",
      "| epoch   2 |   850/ 1063 steps | loss 0.12167\n",
      "| epoch   2 |   900/ 1063 steps | loss 0.10256\n",
      "| epoch   2 |   950/ 1063 steps | loss 0.14515\n",
      "| epoch   2 |  1000/ 1063 steps | loss 0.12128\n",
      "| epoch   2 |  1050/ 1063 steps | loss 0.12757\n"
     ]
    },
    {
     "name": "stderr",
     "output_type": "stream",
     "text": [
      "100%|██████████| 344/344 [00:43<00:00,  7.83it/s]\n"
     ]
    },
    {
     "name": "stdout",
     "output_type": "stream",
     "text": [
      "Test accuracy : 0.874\n"
     ]
    }
   ],
   "source": [
    "model = train(model, train_dataloader, 3)"
   ]
  },
  {
   "cell_type": "code",
   "execution_count": 43,
   "metadata": {},
   "outputs": [
    {
     "data": {
      "text/plain": [
       "(tensor([1, 2, 4, 2, 0, 1, 0, 5, 5, 2, 2, 2, 5, 0, 2, 1], device='cuda:0'),\n",
       " tensor([1, 2, 3, 2, 3, 4, 0, 2, 5, 2, 5, 2, 5, 0, 2, 1]))"
      ]
     },
     "execution_count": 43,
     "metadata": {},
     "output_type": "execute_result"
    }
   ],
   "source": [
    "# visual test\n",
    "batch = next(iter(test_dataloader))\n",
    "torch.argmax(model(batch[0].to(device),attention_mask=batch[1].to(device)).logits, dim=-1), batch[2]"
   ]
  }
 ],
 "metadata": {
  "kernelspec": {
   "display_name": "Python 3",
   "language": "python",
   "name": "python3"
  },
  "language_info": {
   "codemirror_mode": {
    "name": "ipython",
    "version": 3
   },
   "file_extension": ".py",
   "mimetype": "text/x-python",
   "name": "python",
   "nbconvert_exporter": "python",
   "pygments_lexer": "ipython3",
   "version": "3.10.8"
  },
  "orig_nbformat": 4,
  "vscode": {
   "interpreter": {
    "hash": "bbc3c3d932324566a9bf4b4a52ddf64063695fc3adbf25b3fda92572428493bb"
   }
  }
 },
 "nbformat": 4,
 "nbformat_minor": 2
}
